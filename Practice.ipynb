{
 "cells": [
  {
   "cell_type": "markdown",
   "id": "20d62ae0-c599-4c3b-bc00-950920d1b4c7",
   "metadata": {},
   "source": [
    "# Install pyodbc"
   ]
  },
  {
   "cell_type": "code",
   "execution_count": 26,
   "id": "a84eff35-df51-4e40-b5ef-878b3230ea08",
   "metadata": {},
   "outputs": [
    {
     "name": "stdout",
     "output_type": "stream",
     "text": [
      "Defaulting to user installation because normal site-packages is not writeable\n",
      "Requirement already satisfied: pyodbc in c:\\users\\james\\appdata\\roaming\\python\\python311\\site-packages (5.2.0)\n"
     ]
    },
    {
     "name": "stderr",
     "output_type": "stream",
     "text": [
      "\n",
      "[notice] A new release of pip is available: 24.2 -> 25.0.1\n",
      "[notice] To update, run: python.exe -m pip install --upgrade pip\n"
     ]
    }
   ],
   "source": [
    "!pip install pyodbc"
   ]
  },
  {
   "cell_type": "markdown",
   "id": "295761a3-fcbc-4bfd-a9ff-8e69685f641b",
   "metadata": {},
   "source": [
    "# Importing Libraries"
   ]
  },
  {
   "cell_type": "code",
   "execution_count": 1,
   "id": "196a1551-61a0-4e22-a0e6-130b21fdc9bf",
   "metadata": {},
   "outputs": [],
   "source": [
    "import pyodbc\n",
    "import pandas as pd"
   ]
  },
  {
   "cell_type": "markdown",
   "id": "bcbe5053-17b0-477e-be91-406edbddfa5a",
   "metadata": {},
   "source": [
    "# Database Details"
   ]
  },
  {
   "cell_type": "code",
   "execution_count": null,
   "id": "12ebb8ec-21ec-4909-a2f0-3b0116e155f7",
   "metadata": {},
   "outputs": [],
   "source": [
    "uid = \n",
    "pwd = \n",
    "driver = \"{SQL Server Native Client 11.0}\"\n",
    "server = \"localhost\"\n",
    "database = \"AdventureWorks2022;\"\n"
   ]
  },
  {
   "cell_type": "code",
   "execution_count": null,
   "id": "fca7244e-6dde-49f5-9e7a-15dd016774ab",
   "metadata": {},
   "outputs": [],
   "source": [
    "import pyodbc\n",
    "\n",
    "conn = pyodbc.connect(\n",
    "    'DRIVER={SQL Server Native Client 11.0};'\n",
    "    'SERVER=\n",
    "    'DATABASE=\n",
    "    'UID=\n",
    "    'PWD=\n",
    ")\n"
   ]
  },
  {
   "cell_type": "code",
   "execution_count": 4,
   "id": "d23b6584-3a30-4ce8-ad5a-56c6edbfc992",
   "metadata": {},
   "outputs": [],
   "source": [
    "sql = \"SELECT * FROM [AdventureWorks2022].[Production].[ProductCategory]\""
   ]
  },
  {
   "cell_type": "markdown",
   "id": "2f92aaae-07e8-4711-bb6b-ac130c3e4c32",
   "metadata": {},
   "source": [
    "# Query the database"
   ]
  },
  {
   "cell_type": "code",
   "execution_count": 5,
   "id": "7f47d9cc-deb3-4b8b-8d28-5826b7a92fcd",
   "metadata": {},
   "outputs": [
    {
     "name": "stderr",
     "output_type": "stream",
     "text": [
      "C:\\Users\\James\\AppData\\Local\\Temp\\ipykernel_21056\\219586576.py:1: UserWarning: pandas only supports SQLAlchemy connectable (engine/connection) or database string URI or sqlite3 DBAPI2 connection. Other DBAPI2 objects are not tested. Please consider using SQLAlchemy.\n",
      "  df = pd.read_sql_query(sql, conn)\n"
     ]
    },
    {
     "data": {
      "text/html": [
       "<div>\n",
       "<style scoped>\n",
       "    .dataframe tbody tr th:only-of-type {\n",
       "        vertical-align: middle;\n",
       "    }\n",
       "\n",
       "    .dataframe tbody tr th {\n",
       "        vertical-align: top;\n",
       "    }\n",
       "\n",
       "    .dataframe thead th {\n",
       "        text-align: right;\n",
       "    }\n",
       "</style>\n",
       "<table border=\"1\" class=\"dataframe\">\n",
       "  <thead>\n",
       "    <tr style=\"text-align: right;\">\n",
       "      <th></th>\n",
       "      <th>ProductCategoryID</th>\n",
       "      <th>Name</th>\n",
       "      <th>rowguid</th>\n",
       "      <th>ModifiedDate</th>\n",
       "    </tr>\n",
       "  </thead>\n",
       "  <tbody>\n",
       "    <tr>\n",
       "      <th>0</th>\n",
       "      <td>1</td>\n",
       "      <td>Bikes</td>\n",
       "      <td>CFBDA25C-DF71-47A7-B81B-64EE161AA37C</td>\n",
       "      <td>2008-04-30</td>\n",
       "    </tr>\n",
       "    <tr>\n",
       "      <th>1</th>\n",
       "      <td>2</td>\n",
       "      <td>Components</td>\n",
       "      <td>C657828D-D808-4ABA-91A3-AF2CE02300E9</td>\n",
       "      <td>2008-04-30</td>\n",
       "    </tr>\n",
       "    <tr>\n",
       "      <th>2</th>\n",
       "      <td>3</td>\n",
       "      <td>Clothing</td>\n",
       "      <td>10A7C342-CA82-48D4-8A38-46A2EB089B74</td>\n",
       "      <td>2008-04-30</td>\n",
       "    </tr>\n",
       "    <tr>\n",
       "      <th>3</th>\n",
       "      <td>4</td>\n",
       "      <td>Accessories</td>\n",
       "      <td>2BE3BE36-D9A2-4EEE-B593-ED895D97C2A6</td>\n",
       "      <td>2008-04-30</td>\n",
       "    </tr>\n",
       "  </tbody>\n",
       "</table>\n",
       "</div>"
      ],
      "text/plain": [
       "   ProductCategoryID         Name                               rowguid  \\\n",
       "0                  1        Bikes  CFBDA25C-DF71-47A7-B81B-64EE161AA37C   \n",
       "1                  2   Components  C657828D-D808-4ABA-91A3-AF2CE02300E9   \n",
       "2                  3     Clothing  10A7C342-CA82-48D4-8A38-46A2EB089B74   \n",
       "3                  4  Accessories  2BE3BE36-D9A2-4EEE-B593-ED895D97C2A6   \n",
       "\n",
       "  ModifiedDate  \n",
       "0   2008-04-30  \n",
       "1   2008-04-30  \n",
       "2   2008-04-30  \n",
       "3   2008-04-30  "
      ]
     },
     "execution_count": 5,
     "metadata": {},
     "output_type": "execute_result"
    }
   ],
   "source": [
    "df = pd.read_sql_query(sql, conn)\n",
    "df.head()"
   ]
  },
  {
   "cell_type": "code",
   "execution_count": null,
   "id": "a178338d",
   "metadata": {},
   "outputs": [],
   "source": []
  }
 ],
 "metadata": {
  "kernelspec": {
   "display_name": "Python 3",
   "language": "python",
   "name": "python3"
  },
  "language_info": {
   "codemirror_mode": {
    "name": "ipython",
    "version": 3
   },
   "file_extension": ".py",
   "mimetype": "text/x-python",
   "name": "python",
   "nbconvert_exporter": "python",
   "pygments_lexer": "ipython3",
   "version": "3.11.4"
  }
 },
 "nbformat": 4,
 "nbformat_minor": 5
}
